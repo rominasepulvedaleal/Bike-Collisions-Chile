{
 "cells": [
  {
   "cell_type": "markdown",
   "id": "98f33716-79c1-4b56-ade7-67ca69d68571",
   "metadata": {},
   "source": [
    "# Bike collisions in Chile, RM (2016-2021)\n",
    "#### by Romina Sepúlveda"
   ]
  },
  {
   "cell_type": "markdown",
   "id": "4799437a-cb71-40d1-aaac-58aa1246fc43",
   "metadata": {},
   "source": [
    "![](Bike_picture.jpeg)"
   ]
  },
  {
   "cell_type": "markdown",
   "id": "dd5f8eab-3b06-4e54-9b5e-b46628a32b3a",
   "metadata": {},
   "source": [
    "**Objetive**: Crear an interactive dashboad with the infomation of the bicycle collisions in the Metropolitan Region of Chile.\n",
    "\n",
    "\n",
    "  - Explore collsions by severity. \n",
    "  - Tendendy over the years.\n",
    "  - inpact of the pandemic in the amount of collision.\n",
    "  - What areas of the city (borought) have more collision.\n",
    "\n",
    "    "
   ]
  },
  {
   "cell_type": "markdown",
   "id": "6854910e-3d56-4fab-bbb7-141e1ee14449",
   "metadata": {
    "tags": []
   },
   "source": [
    "Data source:\n",
    "CONASET, National Comision of Safe Transit\\\n",
    "https://www.conaset.cl/programa/observatorio-datos-estadistica/"
   ]
  },
  {
   "cell_type": "markdown",
   "id": "3abf1244-7c86-42e7-a9c5-f84a18386fbb",
   "metadata": {},
   "source": [
    "Columns of interest:\n",
    "\n",
    "- **FID:** id for the collision\n",
    "- **lat:** Some time is referd as X\n",
    "- **lng:** Some time is referd as Y\n",
    "- **Año:** Year\n",
    "- **Comuna:** City where the collision took place\n",
    "- **Región:** The same for whole dataset: 'REGION METROPOLITADA'\n",
    "- **Severity:** Independently of the role of the participant, the severity will be classified as: \n",
    "    - FATAL:   Fallecido \n",
    "    - SERIOUS: Graves y Menos Graves\n",
    "    - SLIGHT:  Leves\n",
    "    "
   ]
  },
  {
   "cell_type": "markdown",
   "id": "3b4dce58-fa09-45cd-a682-6245d60fca1b",
   "metadata": {},
   "source": [
    "### Data Cleaning"
   ]
  },
  {
   "cell_type": "code",
   "execution_count": 371,
   "id": "3346e47c-a0cb-4ded-add7-576549b1c593",
   "metadata": {},
   "outputs": [],
   "source": [
    "#import librearies\n",
    "import pandas as pd\n",
    "import numpy as np\n",
    "#import seaborn as sns\n",
    "#import matplotlib.pyplot as plt\n",
    "pd.set_option('display.max_columns', None)\n",
    "import warnings\n",
    "warnings.simplefilter('ignore')"
   ]
  },
  {
   "cell_type": "code",
   "execution_count": 328,
   "id": "ec5c7c2b-eb4a-462b-89de-9fdb28f6b392",
   "metadata": {},
   "outputs": [],
   "source": [
    "#import data sets\n",
    "\n",
    "df16 = pd.read_csv('Siniestros_bicicletas_RM2016.csv')\n",
    "df17 = pd.read_csv('Siniestros_bicicletas_RM2017.csv')\n",
    "df18 = pd.read_csv('Siniestros_bicicletas_RM2018.csv')\n",
    "df19 = pd.read_csv('Siniestros_bicicletas_RM2019.csv')\n",
    "df20 = pd.read_csv('Siniestros_bicicletas_RM2020.csv')\n",
    "df21 = pd.read_csv('Siniestros_bicicletas_RM2021.csv')"
   ]
  },
  {
   "cell_type": "markdown",
   "id": "383e408f-3869-4853-98bc-cbf146221d35",
   "metadata": {
    "jp-MarkdownHeadingCollapsed": true,
    "tags": []
   },
   "source": [
    "#### Organizing Columns"
   ]
  },
  {
   "cell_type": "code",
   "execution_count": 369,
   "id": "ff57fbbf-a9a6-44f3-8033-a5f88a54718c",
   "metadata": {
    "tags": []
   },
   "outputs": [],
   "source": [
    "# The columns of interest have diferente name for the same columns in some data sets."
   ]
  },
  {
   "cell_type": "code",
   "execution_count": 331,
   "id": "912b2104-5698-4163-8f9e-ec20916f6523",
   "metadata": {},
   "outputs": [],
   "source": [
    "\n",
    "df16 = df16[['X',\n",
    " 'Y',\n",
    " 'FID',\n",
    " 'Comuna',\n",
    " 'Año',\n",
    " 'Región',\n",
    " 'Zona',\n",
    " 'Fallecid_1',\n",
    " 'Graves_1',\n",
    " 'Menos_Gr_1',\n",
    " 'Leves_1']]\n"
   ]
  },
  {
   "cell_type": "code",
   "execution_count": 332,
   "id": "16ae192c-e65c-4d4d-a677-d9ee5b714b14",
   "metadata": {},
   "outputs": [],
   "source": [
    "# rename the column to be consisted with the rest of the dataset\n",
    "new_column_names_16 = {\n",
    "    'Fallecid_1': 'Fallecidos',\n",
    "    'Graves_1': 'Graves',\n",
    "    'Menos_Gr_1': 'Menos_Grav',\n",
    "    'Leves_1': 'Leves',\n",
    "}\n",
    "\n",
    "df16.rename(columns=new_column_names_16, inplace=True)"
   ]
  },
  {
   "cell_type": "code",
   "execution_count": 333,
   "id": "7fa4c567-5bbf-4cc5-ae23-b20398c2caee",
   "metadata": {},
   "outputs": [],
   "source": [
    "df17 = df17[['X',\n",
    " 'Y',\n",
    " 'FID',\n",
    " 'Año',\n",
    " 'Comuna',\n",
    " 'Región',\n",
    " 'Zona',\n",
    " 'Fallecidos',\n",
    " 'Graves',\n",
    " 'Menos_Grav',\n",
    " 'Leves',\n",
    " 'FallecidoB',\n",
    " 'GraveBici',\n",
    " 'MgraveBici',\n",
    " 'LeveBici']]"
   ]
  },
  {
   "cell_type": "code",
   "execution_count": 334,
   "id": "60dbe6b5-e224-4a1d-a1b1-f382fb1d80bd",
   "metadata": {},
   "outputs": [],
   "source": [
    "df18 = df18[['X',\n",
    " 'Y',\n",
    " 'FID',\n",
    " 'Año',\n",
    " 'Comuna',\n",
    " 'Región',\n",
    " 'Zona',\n",
    " 'Fallecidos',\n",
    " 'Graves',\n",
    " 'Menos_Grav',\n",
    " 'Leves',\n",
    " 'FallecidoB',\n",
    " 'GraveBici',\n",
    " 'MgraveBici',\n",
    " 'LeveBici']]"
   ]
  },
  {
   "cell_type": "code",
   "execution_count": 335,
   "id": "8e016c38-e715-4288-9b8e-b67d19055056",
   "metadata": {},
   "outputs": [],
   "source": [
    "df19 = df19[['X',\n",
    " 'Y',\n",
    " 'FID',\n",
    " 'Ano',\n",
    " 'Region',\n",
    " 'Comuna',\n",
    " 'Zona',\n",
    " 'Fallecidos',\n",
    " 'Graves',\n",
    " 'Menos_Grav',\n",
    " 'Leves']]"
   ]
  },
  {
   "cell_type": "code",
   "execution_count": 336,
   "id": "adf90963-7c87-487e-b371-d01dbdb51751",
   "metadata": {},
   "outputs": [],
   "source": [
    "#Change the typo in the name for consistency \n",
    "\n",
    "new_column_names_19 = { 'Ano': 'Año',\n",
    "                       'Region':  'Región'\n",
    "                      }\n",
    "df19.rename(columns=new_column_names_19, inplace=True)"
   ]
  },
  {
   "cell_type": "code",
   "execution_count": 337,
   "id": "90cf3168-2acd-414a-ad80-5a85e60f246c",
   "metadata": {},
   "outputs": [],
   "source": [
    "df20 = df20[['X',\n",
    " 'Y',\n",
    " 'FID',\n",
    " 'Año',\n",
    " 'Región',\n",
    " 'Comuna',\n",
    " 'Zona',\n",
    " 'Fallecidos',\n",
    " 'Graves',\n",
    " 'Menos_Grav',\n",
    " 'Leves',\n",
    " 'FallecidoB',\n",
    " 'GraveBici',\n",
    " 'MgraveBici',\n",
    " 'LeveBici']]"
   ]
  },
  {
   "cell_type": "code",
   "execution_count": 338,
   "id": "80b5bc9f-64a7-4024-a6ba-f12c970b42cc",
   "metadata": {},
   "outputs": [],
   "source": [
    "#i need to change the name to lower case in order to merge 2021 with the rest"
   ]
  },
  {
   "cell_type": "code",
   "execution_count": 339,
   "id": "3dadd712-f310-43fa-a435-09064a31c2b2",
   "metadata": {},
   "outputs": [],
   "source": [
    "df21 = df21[['X',\n",
    "'Y',\n",
    "'FID',\n",
    "'REGION',\n",
    "'COMUNA',\n",
    "'Año',\n",
    "'Zona',\n",
    "'Fallecidos',\n",
    "'Graves',\n",
    "'Menos_Grav',\n",
    "'Leves',\n",
    "'Ilesos']]"
   ]
  },
  {
   "cell_type": "code",
   "execution_count": 370,
   "id": "89897a7f-0c8b-46da-a91d-47775a406c9f",
   "metadata": {},
   "outputs": [],
   "source": [
    "#Diccionario with the new names for df1 to be consitent wth the manes of other columns\n",
    "\n",
    "new_column_names_21 = {\n",
    "    'REGION': 'Región',\n",
    "    'COMUNA': 'Comuna',\n",
    "}\n",
    "\n",
    "df21.rename(columns=new_column_names_21, inplace=True)"
   ]
  },
  {
   "cell_type": "markdown",
   "id": "85f0a465-62ad-480a-b0c1-018574f021f5",
   "metadata": {
    "jp-MarkdownHeadingCollapsed": true,
    "tags": []
   },
   "source": [
    "#### Severity"
   ]
  },
  {
   "cell_type": "code",
   "execution_count": 341,
   "id": "28b46648-1b9c-40f1-87d9-d98cfae24fcc",
   "metadata": {},
   "outputs": [
    {
     "name": "stderr",
     "output_type": "stream",
     "text": [
      "/var/folders/vr/d7s6mt_50px6lr9kx8j015100000gn/T/ipykernel_7428/3209103464.py:6: FutureWarning: In a future version of pandas all arguments of DataFrame.drop except for the argument 'labels' will be keyword-only.\n",
      "  df21.drop(['Ilesos'], 1, inplace = True)\n"
     ]
    }
   ],
   "source": [
    "# Since df21 is the only one with 'Ilesos' I will add that count to 'Leves'\n",
    "\n",
    "df21['Leves'] = df21['Leves'] + df21['Ilesos']\n",
    "\n",
    "# drop the column  \n",
    "df21.drop(['Ilesos'], 1, inplace = True)"
   ]
  },
  {
   "cell_type": "code",
   "execution_count": null,
   "id": "24c8b98f-fc2f-4f36-8aaf-16cfba60d17a",
   "metadata": {},
   "outputs": [],
   "source": []
  },
  {
   "cell_type": "code",
   "execution_count": 342,
   "id": "b648d723-983e-4fef-ad2d-ec1244e4c20e",
   "metadata": {},
   "outputs": [],
   "source": [
    "#concatecate the data set that have more details in order to aggrupate the indo and make it consistent with the other datasets\n",
    "df17_18_20 = pd.concat([df17,df18, df20], ignore_index=True)"
   ]
  },
  {
   "cell_type": "code",
   "execution_count": 343,
   "id": "43b1d8dd-3268-4be0-81a6-81e1cd9784aa",
   "metadata": {},
   "outputs": [],
   "source": [
    "#add\n",
    "df17_18_20['Fallecidos'] = df17_18_20['Fallecidos'] + df17_18_20['FallecidoB'] \n",
    "df17_18_20['Graves']     = df17_18_20['Graves']     + df17_18_20['GraveBici'] \n",
    "df17_18_20['Menos_Grav'] = df17_18_20['Menos_Grav'] + df17_18_20['MgraveBici']\n",
    "df17_18_20[ 'Leves']     = df17_18_20[ 'Leves']     + df17_18_20['LeveBici']"
   ]
  },
  {
   "cell_type": "code",
   "execution_count": 344,
   "id": "f581e813-2f41-463c-986e-cdda31497547",
   "metadata": {},
   "outputs": [
    {
     "name": "stderr",
     "output_type": "stream",
     "text": [
      "/var/folders/vr/d7s6mt_50px6lr9kx8j015100000gn/T/ipykernel_7428/740618568.py:2: FutureWarning: In a future version of pandas all arguments of DataFrame.drop except for the argument 'labels' will be keyword-only.\n",
      "  df17_18_20.drop([ 'FallecidoB','GraveBici','MgraveBici','LeveBici'], 1 , inplace= True)\n"
     ]
    }
   ],
   "source": [
    "#drop\n",
    "df17_18_20.drop([ 'FallecidoB','GraveBici','MgraveBici','LeveBici'], 1 , inplace= True)"
   ]
  },
  {
   "cell_type": "markdown",
   "id": "29773b48-f58b-41e6-b5ce-29098a354ee1",
   "metadata": {
    "jp-MarkdownHeadingCollapsed": true,
    "tags": []
   },
   "source": [
    "#### Concatenate"
   ]
  },
  {
   "cell_type": "code",
   "execution_count": 345,
   "id": "11a7fe30-d0d1-4d0d-af9d-78c35371918d",
   "metadata": {},
   "outputs": [],
   "source": [
    "#concatenate all the datasets\n",
    "\n",
    "#concatecate\n",
    "df = pd.concat([df17_18_20 , df16, df19, df21 ], ignore_index=True)"
   ]
  },
  {
   "cell_type": "code",
   "execution_count": 346,
   "id": "8cb92d39-0088-4a2a-8d73-2dfb21172736",
   "metadata": {},
   "outputs": [
    {
     "data": {
      "text/html": [
       "<div>\n",
       "<style scoped>\n",
       "    .dataframe tbody tr th:only-of-type {\n",
       "        vertical-align: middle;\n",
       "    }\n",
       "\n",
       "    .dataframe tbody tr th {\n",
       "        vertical-align: top;\n",
       "    }\n",
       "\n",
       "    .dataframe thead th {\n",
       "        text-align: right;\n",
       "    }\n",
       "</style>\n",
       "<table border=\"1\" class=\"dataframe\">\n",
       "  <thead>\n",
       "    <tr style=\"text-align: right;\">\n",
       "      <th></th>\n",
       "      <th>X</th>\n",
       "      <th>Y</th>\n",
       "      <th>FID</th>\n",
       "      <th>Año</th>\n",
       "      <th>Comuna</th>\n",
       "      <th>Región</th>\n",
       "      <th>Zona</th>\n",
       "      <th>Fallecidos</th>\n",
       "      <th>Graves</th>\n",
       "      <th>Menos_Grav</th>\n",
       "      <th>Leves</th>\n",
       "    </tr>\n",
       "  </thead>\n",
       "  <tbody>\n",
       "    <tr>\n",
       "      <th>0</th>\n",
       "      <td>-70.885688</td>\n",
       "      <td>-33.294126</td>\n",
       "      <td>1</td>\n",
       "      <td>2017</td>\n",
       "      <td>LAMPA</td>\n",
       "      <td>REGION METROPOLITANA</td>\n",
       "      <td>RURAL</td>\n",
       "      <td>0</td>\n",
       "      <td>0</td>\n",
       "      <td>0</td>\n",
       "      <td>1</td>\n",
       "    </tr>\n",
       "    <tr>\n",
       "      <th>1</th>\n",
       "      <td>-70.882489</td>\n",
       "      <td>-33.266255</td>\n",
       "      <td>2</td>\n",
       "      <td>2017</td>\n",
       "      <td>LAMPA</td>\n",
       "      <td>REGION METROPOLITANA</td>\n",
       "      <td>RURAL</td>\n",
       "      <td>0</td>\n",
       "      <td>0</td>\n",
       "      <td>2</td>\n",
       "      <td>0</td>\n",
       "    </tr>\n",
       "    <tr>\n",
       "      <th>2</th>\n",
       "      <td>-70.881043</td>\n",
       "      <td>-33.282934</td>\n",
       "      <td>3</td>\n",
       "      <td>2017</td>\n",
       "      <td>LAMPA</td>\n",
       "      <td>REGION METROPOLITANA</td>\n",
       "      <td>URBANA</td>\n",
       "      <td>0</td>\n",
       "      <td>0</td>\n",
       "      <td>0</td>\n",
       "      <td>1</td>\n",
       "    </tr>\n",
       "    <tr>\n",
       "      <th>3</th>\n",
       "      <td>-70.878267</td>\n",
       "      <td>-33.284301</td>\n",
       "      <td>4</td>\n",
       "      <td>2017</td>\n",
       "      <td>LAMPA</td>\n",
       "      <td>REGION METROPOLITANA</td>\n",
       "      <td>RURAL</td>\n",
       "      <td>0</td>\n",
       "      <td>0</td>\n",
       "      <td>0</td>\n",
       "      <td>1</td>\n",
       "    </tr>\n",
       "    <tr>\n",
       "      <th>4</th>\n",
       "      <td>-70.878193</td>\n",
       "      <td>-33.284401</td>\n",
       "      <td>5</td>\n",
       "      <td>2017</td>\n",
       "      <td>LAMPA</td>\n",
       "      <td>REGION METROPOLITANA</td>\n",
       "      <td>RURAL</td>\n",
       "      <td>0</td>\n",
       "      <td>0</td>\n",
       "      <td>0</td>\n",
       "      <td>1</td>\n",
       "    </tr>\n",
       "  </tbody>\n",
       "</table>\n",
       "</div>"
      ],
      "text/plain": [
       "           X          Y  FID   Año Comuna                Región    Zona  \\\n",
       "0 -70.885688 -33.294126    1  2017  LAMPA  REGION METROPOLITANA   RURAL   \n",
       "1 -70.882489 -33.266255    2  2017  LAMPA  REGION METROPOLITANA   RURAL   \n",
       "2 -70.881043 -33.282934    3  2017  LAMPA  REGION METROPOLITANA  URBANA   \n",
       "3 -70.878267 -33.284301    4  2017  LAMPA  REGION METROPOLITANA   RURAL   \n",
       "4 -70.878193 -33.284401    5  2017  LAMPA  REGION METROPOLITANA   RURAL   \n",
       "\n",
       "   Fallecidos  Graves  Menos_Grav  Leves  \n",
       "0           0       0           0      1  \n",
       "1           0       0           2      0  \n",
       "2           0       0           0      1  \n",
       "3           0       0           0      1  \n",
       "4           0       0           0      1  "
      ]
     },
     "execution_count": 346,
     "metadata": {},
     "output_type": "execute_result"
    }
   ],
   "source": [
    "df.head()"
   ]
  },
  {
   "cell_type": "code",
   "execution_count": 347,
   "id": "2183dd39-f083-49c5-b7eb-6fccc05ab1ed",
   "metadata": {},
   "outputs": [],
   "source": [
    "#I need to turn the the columns 'Fallecidos', 'Graves','Menos_Graves','Leves' into severity"
   ]
  },
  {
   "cell_type": "code",
   "execution_count": 348,
   "id": "e82d1451-7eb7-4b91-8cb7-111168ec1471",
   "metadata": {},
   "outputs": [],
   "source": [
    "def classify_severity(row):\n",
    "    if row['Fallecidos'] > 0:\n",
    "        return 'FATAL'\n",
    "    elif row['Graves'] > 0:\n",
    "        return 'SERIOUS'\n",
    "    elif row['Menos_Grav'] > 0:\n",
    "        return 'SERIOUS'\n",
    "    else:\n",
    "        return 'SLIGHT'"
   ]
  },
  {
   "cell_type": "code",
   "execution_count": 349,
   "id": "e9892f5c-f9a7-44fd-bab4-141ae3ccbedf",
   "metadata": {},
   "outputs": [],
   "source": [
    "df['Severity'] = df.apply(classify_severity, axis=1)"
   ]
  },
  {
   "cell_type": "code",
   "execution_count": 350,
   "id": "5d3212c2-bd77-45b3-b5aa-905fe84308d6",
   "metadata": {},
   "outputs": [
    {
     "data": {
      "text/html": [
       "<div>\n",
       "<style scoped>\n",
       "    .dataframe tbody tr th:only-of-type {\n",
       "        vertical-align: middle;\n",
       "    }\n",
       "\n",
       "    .dataframe tbody tr th {\n",
       "        vertical-align: top;\n",
       "    }\n",
       "\n",
       "    .dataframe thead th {\n",
       "        text-align: right;\n",
       "    }\n",
       "</style>\n",
       "<table border=\"1\" class=\"dataframe\">\n",
       "  <thead>\n",
       "    <tr style=\"text-align: right;\">\n",
       "      <th></th>\n",
       "      <th>X</th>\n",
       "      <th>Y</th>\n",
       "      <th>FID</th>\n",
       "      <th>Año</th>\n",
       "      <th>Comuna</th>\n",
       "      <th>Región</th>\n",
       "      <th>Zona</th>\n",
       "      <th>Fallecidos</th>\n",
       "      <th>Graves</th>\n",
       "      <th>Menos_Grav</th>\n",
       "      <th>Leves</th>\n",
       "      <th>Severity</th>\n",
       "    </tr>\n",
       "  </thead>\n",
       "  <tbody>\n",
       "    <tr>\n",
       "      <th>0</th>\n",
       "      <td>-70.885688</td>\n",
       "      <td>-33.294126</td>\n",
       "      <td>1</td>\n",
       "      <td>2017</td>\n",
       "      <td>LAMPA</td>\n",
       "      <td>REGION METROPOLITANA</td>\n",
       "      <td>RURAL</td>\n",
       "      <td>0</td>\n",
       "      <td>0</td>\n",
       "      <td>0</td>\n",
       "      <td>1</td>\n",
       "      <td>SLIGHT</td>\n",
       "    </tr>\n",
       "    <tr>\n",
       "      <th>1</th>\n",
       "      <td>-70.882489</td>\n",
       "      <td>-33.266255</td>\n",
       "      <td>2</td>\n",
       "      <td>2017</td>\n",
       "      <td>LAMPA</td>\n",
       "      <td>REGION METROPOLITANA</td>\n",
       "      <td>RURAL</td>\n",
       "      <td>0</td>\n",
       "      <td>0</td>\n",
       "      <td>2</td>\n",
       "      <td>0</td>\n",
       "      <td>SERIOUS</td>\n",
       "    </tr>\n",
       "    <tr>\n",
       "      <th>2</th>\n",
       "      <td>-70.881043</td>\n",
       "      <td>-33.282934</td>\n",
       "      <td>3</td>\n",
       "      <td>2017</td>\n",
       "      <td>LAMPA</td>\n",
       "      <td>REGION METROPOLITANA</td>\n",
       "      <td>URBANA</td>\n",
       "      <td>0</td>\n",
       "      <td>0</td>\n",
       "      <td>0</td>\n",
       "      <td>1</td>\n",
       "      <td>SLIGHT</td>\n",
       "    </tr>\n",
       "    <tr>\n",
       "      <th>3</th>\n",
       "      <td>-70.878267</td>\n",
       "      <td>-33.284301</td>\n",
       "      <td>4</td>\n",
       "      <td>2017</td>\n",
       "      <td>LAMPA</td>\n",
       "      <td>REGION METROPOLITANA</td>\n",
       "      <td>RURAL</td>\n",
       "      <td>0</td>\n",
       "      <td>0</td>\n",
       "      <td>0</td>\n",
       "      <td>1</td>\n",
       "      <td>SLIGHT</td>\n",
       "    </tr>\n",
       "    <tr>\n",
       "      <th>4</th>\n",
       "      <td>-70.878193</td>\n",
       "      <td>-33.284401</td>\n",
       "      <td>5</td>\n",
       "      <td>2017</td>\n",
       "      <td>LAMPA</td>\n",
       "      <td>REGION METROPOLITANA</td>\n",
       "      <td>RURAL</td>\n",
       "      <td>0</td>\n",
       "      <td>0</td>\n",
       "      <td>0</td>\n",
       "      <td>1</td>\n",
       "      <td>SLIGHT</td>\n",
       "    </tr>\n",
       "  </tbody>\n",
       "</table>\n",
       "</div>"
      ],
      "text/plain": [
       "           X          Y  FID   Año Comuna                Región    Zona  \\\n",
       "0 -70.885688 -33.294126    1  2017  LAMPA  REGION METROPOLITANA   RURAL   \n",
       "1 -70.882489 -33.266255    2  2017  LAMPA  REGION METROPOLITANA   RURAL   \n",
       "2 -70.881043 -33.282934    3  2017  LAMPA  REGION METROPOLITANA  URBANA   \n",
       "3 -70.878267 -33.284301    4  2017  LAMPA  REGION METROPOLITANA   RURAL   \n",
       "4 -70.878193 -33.284401    5  2017  LAMPA  REGION METROPOLITANA   RURAL   \n",
       "\n",
       "   Fallecidos  Graves  Menos_Grav  Leves Severity  \n",
       "0           0       0           0      1   SLIGHT  \n",
       "1           0       0           2      0  SERIOUS  \n",
       "2           0       0           0      1   SLIGHT  \n",
       "3           0       0           0      1   SLIGHT  \n",
       "4           0       0           0      1   SLIGHT  "
      ]
     },
     "execution_count": 350,
     "metadata": {},
     "output_type": "execute_result"
    }
   ],
   "source": [
    "\n",
    "df.head()"
   ]
  },
  {
   "cell_type": "code",
   "execution_count": 351,
   "id": "aafd2cd0-33bf-4f23-aa71-7c9f02749e56",
   "metadata": {},
   "outputs": [
    {
     "name": "stderr",
     "output_type": "stream",
     "text": [
      "/var/folders/vr/d7s6mt_50px6lr9kx8j015100000gn/T/ipykernel_7428/674559121.py:3: FutureWarning: In a future version of pandas all arguments of DataFrame.drop except for the argument 'labels' will be keyword-only.\n",
      "  df.drop(['Fallecidos', 'Graves','Menos_Grav','Leves', 'FID'], 1 , inplace=True)\n"
     ]
    }
   ],
   "source": [
    "#drop\n",
    "\n",
    "df.drop(['Fallecidos', 'Graves','Menos_Grav','Leves', 'FID'], 1 , inplace=True)"
   ]
  },
  {
   "cell_type": "code",
   "execution_count": 352,
   "id": "fae19725-cdfb-43f5-9347-78f9125bdc45",
   "metadata": {},
   "outputs": [
    {
     "data": {
      "text/html": [
       "<div>\n",
       "<style scoped>\n",
       "    .dataframe tbody tr th:only-of-type {\n",
       "        vertical-align: middle;\n",
       "    }\n",
       "\n",
       "    .dataframe tbody tr th {\n",
       "        vertical-align: top;\n",
       "    }\n",
       "\n",
       "    .dataframe thead th {\n",
       "        text-align: right;\n",
       "    }\n",
       "</style>\n",
       "<table border=\"1\" class=\"dataframe\">\n",
       "  <thead>\n",
       "    <tr style=\"text-align: right;\">\n",
       "      <th></th>\n",
       "      <th>X</th>\n",
       "      <th>Y</th>\n",
       "      <th>Año</th>\n",
       "      <th>Comuna</th>\n",
       "      <th>Región</th>\n",
       "      <th>Zona</th>\n",
       "      <th>Severity</th>\n",
       "    </tr>\n",
       "  </thead>\n",
       "  <tbody>\n",
       "    <tr>\n",
       "      <th>0</th>\n",
       "      <td>-70.885688</td>\n",
       "      <td>-33.294126</td>\n",
       "      <td>2017</td>\n",
       "      <td>LAMPA</td>\n",
       "      <td>REGION METROPOLITANA</td>\n",
       "      <td>RURAL</td>\n",
       "      <td>SLIGHT</td>\n",
       "    </tr>\n",
       "    <tr>\n",
       "      <th>1</th>\n",
       "      <td>-70.882489</td>\n",
       "      <td>-33.266255</td>\n",
       "      <td>2017</td>\n",
       "      <td>LAMPA</td>\n",
       "      <td>REGION METROPOLITANA</td>\n",
       "      <td>RURAL</td>\n",
       "      <td>SERIOUS</td>\n",
       "    </tr>\n",
       "    <tr>\n",
       "      <th>2</th>\n",
       "      <td>-70.881043</td>\n",
       "      <td>-33.282934</td>\n",
       "      <td>2017</td>\n",
       "      <td>LAMPA</td>\n",
       "      <td>REGION METROPOLITANA</td>\n",
       "      <td>URBANA</td>\n",
       "      <td>SLIGHT</td>\n",
       "    </tr>\n",
       "    <tr>\n",
       "      <th>3</th>\n",
       "      <td>-70.878267</td>\n",
       "      <td>-33.284301</td>\n",
       "      <td>2017</td>\n",
       "      <td>LAMPA</td>\n",
       "      <td>REGION METROPOLITANA</td>\n",
       "      <td>RURAL</td>\n",
       "      <td>SLIGHT</td>\n",
       "    </tr>\n",
       "    <tr>\n",
       "      <th>4</th>\n",
       "      <td>-70.878193</td>\n",
       "      <td>-33.284401</td>\n",
       "      <td>2017</td>\n",
       "      <td>LAMPA</td>\n",
       "      <td>REGION METROPOLITANA</td>\n",
       "      <td>RURAL</td>\n",
       "      <td>SLIGHT</td>\n",
       "    </tr>\n",
       "  </tbody>\n",
       "</table>\n",
       "</div>"
      ],
      "text/plain": [
       "           X          Y   Año Comuna                Región    Zona Severity\n",
       "0 -70.885688 -33.294126  2017  LAMPA  REGION METROPOLITANA   RURAL   SLIGHT\n",
       "1 -70.882489 -33.266255  2017  LAMPA  REGION METROPOLITANA   RURAL  SERIOUS\n",
       "2 -70.881043 -33.282934  2017  LAMPA  REGION METROPOLITANA  URBANA   SLIGHT\n",
       "3 -70.878267 -33.284301  2017  LAMPA  REGION METROPOLITANA   RURAL   SLIGHT\n",
       "4 -70.878193 -33.284401  2017  LAMPA  REGION METROPOLITANA   RURAL   SLIGHT"
      ]
     },
     "execution_count": 352,
     "metadata": {},
     "output_type": "execute_result"
    }
   ],
   "source": [
    "df.head()"
   ]
  },
  {
   "cell_type": "code",
   "execution_count": 357,
   "id": "844c346b-394e-45b5-9ef2-5cbaa1e5a232",
   "metadata": {},
   "outputs": [],
   "source": [
    "#rename\n",
    "\n",
    "new_column_names_df = {\n",
    "    'X': 'lat',\n",
    "    'Y': 'lng',\n",
    "    'Año': 'Year',\n",
    "    'Comuna': 'Borough',\n",
    "    'Región': 'Region',\n",
    "    'Zona': 'Zone'\n",
    "}\n",
    "\n",
    "df.rename(columns=new_column_names_df, inplace=True)"
   ]
  },
  {
   "cell_type": "code",
   "execution_count": 358,
   "id": "84142ef7-dcb9-412f-a1aa-0e4929d0b206",
   "metadata": {},
   "outputs": [
    {
     "data": {
      "text/html": [
       "<div>\n",
       "<style scoped>\n",
       "    .dataframe tbody tr th:only-of-type {\n",
       "        vertical-align: middle;\n",
       "    }\n",
       "\n",
       "    .dataframe tbody tr th {\n",
       "        vertical-align: top;\n",
       "    }\n",
       "\n",
       "    .dataframe thead th {\n",
       "        text-align: right;\n",
       "    }\n",
       "</style>\n",
       "<table border=\"1\" class=\"dataframe\">\n",
       "  <thead>\n",
       "    <tr style=\"text-align: right;\">\n",
       "      <th></th>\n",
       "      <th>lat</th>\n",
       "      <th>lng</th>\n",
       "      <th>Year</th>\n",
       "      <th>Borough</th>\n",
       "      <th>Region</th>\n",
       "      <th>Zone</th>\n",
       "      <th>Severity</th>\n",
       "    </tr>\n",
       "  </thead>\n",
       "  <tbody>\n",
       "    <tr>\n",
       "      <th>0</th>\n",
       "      <td>-70.885688</td>\n",
       "      <td>-33.294126</td>\n",
       "      <td>2017</td>\n",
       "      <td>LAMPA</td>\n",
       "      <td>REGION METROPOLITANA</td>\n",
       "      <td>RURAL</td>\n",
       "      <td>SLIGHT</td>\n",
       "    </tr>\n",
       "    <tr>\n",
       "      <th>1</th>\n",
       "      <td>-70.882489</td>\n",
       "      <td>-33.266255</td>\n",
       "      <td>2017</td>\n",
       "      <td>LAMPA</td>\n",
       "      <td>REGION METROPOLITANA</td>\n",
       "      <td>RURAL</td>\n",
       "      <td>SERIOUS</td>\n",
       "    </tr>\n",
       "    <tr>\n",
       "      <th>2</th>\n",
       "      <td>-70.881043</td>\n",
       "      <td>-33.282934</td>\n",
       "      <td>2017</td>\n",
       "      <td>LAMPA</td>\n",
       "      <td>REGION METROPOLITANA</td>\n",
       "      <td>URBANA</td>\n",
       "      <td>SLIGHT</td>\n",
       "    </tr>\n",
       "    <tr>\n",
       "      <th>3</th>\n",
       "      <td>-70.878267</td>\n",
       "      <td>-33.284301</td>\n",
       "      <td>2017</td>\n",
       "      <td>LAMPA</td>\n",
       "      <td>REGION METROPOLITANA</td>\n",
       "      <td>RURAL</td>\n",
       "      <td>SLIGHT</td>\n",
       "    </tr>\n",
       "    <tr>\n",
       "      <th>4</th>\n",
       "      <td>-70.878193</td>\n",
       "      <td>-33.284401</td>\n",
       "      <td>2017</td>\n",
       "      <td>LAMPA</td>\n",
       "      <td>REGION METROPOLITANA</td>\n",
       "      <td>RURAL</td>\n",
       "      <td>SLIGHT</td>\n",
       "    </tr>\n",
       "  </tbody>\n",
       "</table>\n",
       "</div>"
      ],
      "text/plain": [
       "         lat        lng  Year Borough                Region    Zone Severity\n",
       "0 -70.885688 -33.294126  2017   LAMPA  REGION METROPOLITANA   RURAL   SLIGHT\n",
       "1 -70.882489 -33.266255  2017   LAMPA  REGION METROPOLITANA   RURAL  SERIOUS\n",
       "2 -70.881043 -33.282934  2017   LAMPA  REGION METROPOLITANA  URBANA   SLIGHT\n",
       "3 -70.878267 -33.284301  2017   LAMPA  REGION METROPOLITANA   RURAL   SLIGHT\n",
       "4 -70.878193 -33.284401  2017   LAMPA  REGION METROPOLITANA   RURAL   SLIGHT"
      ]
     },
     "execution_count": 358,
     "metadata": {},
     "output_type": "execute_result"
    }
   ],
   "source": [
    "df.head()"
   ]
  },
  {
   "cell_type": "code",
   "execution_count": 366,
   "id": "b2420fc2-0a00-4257-a189-cf554fc2428a",
   "metadata": {},
   "outputs": [],
   "source": [
    "# Define a mapping of non-standard names to standardized names\n",
    "\n",
    "borough_mapping = {\n",
    "    'Ã‘UÃ‘OA': 'ÑUÑOA',\n",
    "    'ñuñoa': 'ÑUÑOA',\n",
    "    'NUNOA': 'ÑUÑOA',\n",
    "    'Ñuñoa': 'ÑUÑOA',\n",
    "    'PEÃ‘ALOLEN': 'PEÑALOLEN',\n",
    "    'PENALOLEN': 'PEÑALOLEN',\n",
    "    'Peñaflor': 'PEÑALOLEN',\n",
    "    'P. AGUIRRE CERDA': 'PEDRO AGUIRRE CERDA',\n",
    "    'Pedro Aguirre Cerda': 'PEDRO AGUIRRE CERDA',\n",
    "    'PENAFLOR': 'PEÑAFLOR',\n",
    "    'Peñalolén': 'PEÑAFLOR',\n",
    "    'QUINTA NORMA': 'QUINTA NORMAL',\n",
    "    'Quinta Normal': 'QUINTA NORMAL',\n",
    "       \n",
    "}\n",
    "\n",
    "# Use the mapping to replace non-standard names with standardized names\n",
    "df['Borough'] = df['Borough'].replace(borough_mapping)\n",
    "\n"
   ]
  },
  {
   "cell_type": "code",
   "execution_count": 367,
   "id": "1cd4835a-bd20-4d98-905a-edaf130c1a2a",
   "metadata": {},
   "outputs": [],
   "source": [
    "#sabe to csv\n",
    "df.to_csv('df_Bike_Collision_Chile.csv')"
   ]
  },
  {
   "cell_type": "markdown",
   "id": "cecace43-945f-4ba2-95d8-29fc5e7bba2b",
   "metadata": {
    "tags": []
   },
   "source": [
    "#### Final Thoughts"
   ]
  },
  {
   "cell_type": "markdown",
   "id": "38806f71-5f4a-48d9-a1dd-8a61dc70c911",
   "metadata": {},
   "source": [
    "Ideas for dashboord:\n",
    "   - Vertical bar for severity.\n",
    "   - Line from year vs contidad de incidentes.\n",
    "   - Horizontal Bar for area with more incident.\n",
    "   - Map of collisions."
   ]
  },
  {
   "cell_type": "markdown",
   "id": "d8f52f6f-3995-49a4-8cec-64e35a6ca074",
   "metadata": {},
   "source": [
    "Link to the dashboard\n",
    "https://public.tableau.com/app/profile/romina1158/viz/BicycleCollisionsinChileRM2016-2021/Dashboard1"
   ]
  },
  {
   "cell_type": "markdown",
   "id": "f418f2b5-009a-4da9-97b5-055e0fdc7b92",
   "metadata": {},
   "source": [
    "![](Dashboard_picture.png)"
   ]
  },
  {
   "cell_type": "markdown",
   "id": "12c821f5-f10e-4376-ab78-79c5216abb5b",
   "metadata": {},
   "source": [
    "Opportinities for improvement\n",
    "\n",
    "   - Explore seasonality.\n",
    "   - Explore other regoions of the county #SantiagoNoEsChile.\n",
    "   - Explore the detail of when was the rider o not the one affected."
   ]
  },
  {
   "cell_type": "code",
   "execution_count": null,
   "id": "d7b95610-c927-493f-a3c4-3ee6a45ab486",
   "metadata": {},
   "outputs": [],
   "source": []
  }
 ],
 "metadata": {
  "kernelspec": {
   "display_name": "Python 3 (ipykernel)",
   "language": "python",
   "name": "python3"
  },
  "language_info": {
   "codemirror_mode": {
    "name": "ipython",
    "version": 3
   },
   "file_extension": ".py",
   "mimetype": "text/x-python",
   "name": "python",
   "nbconvert_exporter": "python",
   "pygments_lexer": "ipython3",
   "version": "3.9.13"
  }
 },
 "nbformat": 4,
 "nbformat_minor": 5
}
